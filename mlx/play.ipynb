{
 "cells": [
  {
   "cell_type": "code",
   "execution_count": 1,
   "metadata": {},
   "outputs": [],
   "source": [
    "import mlx.core as mx\n",
    "import mlx.nn as nn"
   ]
  },
  {
   "cell_type": "code",
   "execution_count": 8,
   "metadata": {},
   "outputs": [
    {
     "name": "stdout",
     "output_type": "stream",
     "text": [
      "input: \n",
      " array([[1, 2]], dtype=int32) \n",
      "\n",
      "token embedding: \n",
      " array([[[1.30837, 0.531615],\n",
      "        [0.0894488, -0.167228]]], dtype=float32) \n",
      "\n",
      "positional embedding: \n",
      " array([[0.0209037, -0.466513],\n",
      "       [-0.717149, -0.467454]], dtype=float32) \n",
      "\n",
      "input embedding: \n",
      " array([[[1.32928, 0.0651026],\n",
      "        [-0.6277, -0.634682]]], dtype=float32)\n"
     ]
    }
   ],
   "source": [
    "vocab_size = 10\n",
    "n_embd = 4\n",
    "context_length = 2\n",
    "class GPT(nn.Module):\n",
    "    def __init__(self):\n",
    "        super().__init__()\n",
    "        self.wte = nn.Embedding(vocab_size, context_length)\n",
    "        self.wpe = nn.Embedding(n_embd, context_length)\n",
    "\n",
    "    def __call__(self, x):\n",
    "        B, T = x.shape\n",
    "        print(f\"input: \\n {x} \\n\")\n",
    "        tok_emb = self.wte(x)\n",
    "        print(f\"token embedding: \\n {tok_emb} \\n\")\n",
    "        pos_emb = self.wpe(mx.arange(T))\n",
    "        print(f\"positional embedding: \\n {pos_emb} \\n\")\n",
    "        input = tok_emb + pos_emb\n",
    "        print(f\"input embedding: \\n {input}\")\n",
    "\n",
    "model = GPT()\n",
    "\n",
    "x = mx.array([[1, 2]])\n",
    "\n",
    "model(x)"
   ]
  },
  {
   "cell_type": "code",
   "execution_count": null,
   "metadata": {},
   "outputs": [],
   "source": []
  }
 ],
 "metadata": {
  "kernelspec": {
   "display_name": ".venv",
   "language": "python",
   "name": "python3"
  },
  "language_info": {
   "codemirror_mode": {
    "name": "ipython",
    "version": 3
   },
   "file_extension": ".py",
   "mimetype": "text/x-python",
   "name": "python",
   "nbconvert_exporter": "python",
   "pygments_lexer": "ipython3",
   "version": "3.11.7"
  }
 },
 "nbformat": 4,
 "nbformat_minor": 2
}
